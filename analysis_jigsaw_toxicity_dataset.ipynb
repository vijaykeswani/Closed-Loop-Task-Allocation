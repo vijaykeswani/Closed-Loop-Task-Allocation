{
 "cells": [
  {
   "cell_type": "code",
   "execution_count": 74,
   "metadata": {},
   "outputs": [
    {
     "name": "stdout",
     "output_type": "stream",
     "text": [
      "The autoreload extension is already loaded. To reload it, use:\n",
      "  %reload_ext autoreload\n"
     ]
    }
   ],
   "source": [
    "%load_ext autoreload\n",
    "%autoreload 2\n",
    "\n",
    "import numpy as np\n",
    "from tqdm.notebook import tqdm\n",
    "import random\n",
    "from sklearn.neural_network import MLPClassifier\n",
    "from collections import Counter\n",
    "\n",
    "import matplotlib.pyplot as plt\n",
    "import torch\n",
    "from torch import nn\n",
    "from torch import optim\n",
    "import sklearn\n",
    "import math\n",
    "\n",
    "from utils import *\n",
    "import copy\n",
    "from sklearn import tree\n",
    "from sklearn.metrics import fbeta_score\n",
    "from sklearn.metrics import f1_score, precision_score, recall_score\n",
    "from sklearn.metrics import roc_auc_score\n",
    "from sklearn.model_selection import GridSearchCV\n",
    "from scipy.spatial.distance import cosine\n",
    "from sklearn.linear_model import LogisticRegression\n",
    "import copy\n",
    "import pandas as pd\n",
    "\n",
    "from models.toxicity_data_models import *\n",
    "from models.train_toxicity_detection import *\n"
   ]
  },
  {
   "cell_type": "markdown",
   "metadata": {},
   "source": [
    "## Dataset"
   ]
  },
  {
   "cell_type": "code",
   "execution_count": 2,
   "metadata": {},
   "outputs": [
    {
     "name": "stdout",
     "output_type": "stream",
     "text": [
      "Loading Glove Model\n"
     ]
    },
    {
     "data": {
      "text/plain": [
       "1193514"
      ]
     },
     "execution_count": 2,
     "metadata": {},
     "output_type": "execute_result"
    }
   ],
   "source": [
    "# replace location below with the location of the glove pretrained model on your system\n",
    "\n",
    "glove_model = loadGloveModel('../All Code/models/glove.twitter.27B.25d.txt')\n",
    "vocab = glove_model.keys()\n",
    "len(vocab)"
   ]
  },
  {
   "cell_type": "markdown",
   "metadata": {},
   "source": [
    "### Data sources\n",
    "\n",
    "There are two data sources being used for this analysis.\n",
    "\n",
    "1. First is the main Jigsaw dataset. Please download the Jigsaw dataset from this link to execute the code below - https://github.com/Nihal2409/Jigsaw-Unintended-Bias-in-Toxicity-Classification/blob/master/Jigsaw_Unintended_Bias_in_Toxicity_Classification.ipynb\n",
    "\n",
    "2. Second is the specialized rater pool data collected by Goyal et al. Please download this data from the following link - https://www.kaggle.com/datasets/google/jigsaw-specialized-rater-pools-dataset"
   ]
  },
  {
   "cell_type": "code",
   "execution_count": 75,
   "metadata": {},
   "outputs": [],
   "source": [
    "## replace location below with the location of the train.csv file from link in (1) above  \n",
    "jigsaw_loc = \"jigsaw-unintended-bias-in-toxicity-classification/train.csv\"\n",
    "\n",
    "## replace location below with the location of the specialized_rater_pools_data.csv file from link in (2) above  \n",
    "spec_raters_loc = \"jigsaw-unintended-bias-in-toxicity-classification/specialized_rater_pools_data.csv\"\n"
   ]
  },
  {
   "cell_type": "code",
   "execution_count": 91,
   "metadata": {
    "scrolled": false
   },
   "outputs": [],
   "source": [
    "## Fetch and preprocess data from the above links\n",
    "all_data, spec_data = getJigsawData(jigsaw_loc, spec_raters_loc)"
   ]
  },
  {
   "cell_type": "code",
   "execution_count": 77,
   "metadata": {},
   "outputs": [
    {
     "data": {
      "text/html": [
       "<div>\n",
       "<style scoped>\n",
       "    .dataframe tbody tr th:only-of-type {\n",
       "        vertical-align: middle;\n",
       "    }\n",
       "\n",
       "    .dataframe tbody tr th {\n",
       "        vertical-align: top;\n",
       "    }\n",
       "\n",
       "    .dataframe thead th {\n",
       "        text-align: right;\n",
       "    }\n",
       "</style>\n",
       "<table border=\"1\" class=\"dataframe\">\n",
       "  <thead>\n",
       "    <tr style=\"text-align: right;\">\n",
       "      <th></th>\n",
       "      <th>id</th>\n",
       "      <th>unique_contributor_id</th>\n",
       "      <th>identity_attack</th>\n",
       "      <th>insult</th>\n",
       "      <th>obscene</th>\n",
       "      <th>threat</th>\n",
       "      <th>toxic_score</th>\n",
       "      <th>comment_text</th>\n",
       "      <th>rater_group</th>\n",
       "    </tr>\n",
       "  </thead>\n",
       "  <tbody>\n",
       "    <tr>\n",
       "      <th>0</th>\n",
       "      <td>6080885</td>\n",
       "      <td>5202370157</td>\n",
       "      <td>1.0</td>\n",
       "      <td>1.0</td>\n",
       "      <td>1.0</td>\n",
       "      <td>1.0</td>\n",
       "      <td>1.0</td>\n",
       "      <td>LW2 - A little humor answering those inevitabl...</td>\n",
       "      <td>AA</td>\n",
       "    </tr>\n",
       "    <tr>\n",
       "      <th>1</th>\n",
       "      <td>6080885</td>\n",
       "      <td>860598359</td>\n",
       "      <td>1.0</td>\n",
       "      <td>1.0</td>\n",
       "      <td>1.0</td>\n",
       "      <td>1.0</td>\n",
       "      <td>1.0</td>\n",
       "      <td>LW2 - A little humor answering those inevitabl...</td>\n",
       "      <td>AA</td>\n",
       "    </tr>\n",
       "    <tr>\n",
       "      <th>2</th>\n",
       "      <td>6080885</td>\n",
       "      <td>8302541685</td>\n",
       "      <td>1.0</td>\n",
       "      <td>1.0</td>\n",
       "      <td>1.0</td>\n",
       "      <td>1.0</td>\n",
       "      <td>1.0</td>\n",
       "      <td>LW2 - A little humor answering those inevitabl...</td>\n",
       "      <td>AA</td>\n",
       "    </tr>\n",
       "    <tr>\n",
       "      <th>3</th>\n",
       "      <td>6080885</td>\n",
       "      <td>2601547272</td>\n",
       "      <td>1.0</td>\n",
       "      <td>1.0</td>\n",
       "      <td>1.0</td>\n",
       "      <td>1.0</td>\n",
       "      <td>1.0</td>\n",
       "      <td>LW2 - A little humor answering those inevitabl...</td>\n",
       "      <td>AA</td>\n",
       "    </tr>\n",
       "    <tr>\n",
       "      <th>4</th>\n",
       "      <td>6080885</td>\n",
       "      <td>3101946413</td>\n",
       "      <td>1.0</td>\n",
       "      <td>1.0</td>\n",
       "      <td>1.0</td>\n",
       "      <td>1.0</td>\n",
       "      <td>1.0</td>\n",
       "      <td>LW2 - A little humor answering those inevitabl...</td>\n",
       "      <td>AA</td>\n",
       "    </tr>\n",
       "    <tr>\n",
       "      <th>...</th>\n",
       "      <td>...</td>\n",
       "      <td>...</td>\n",
       "      <td>...</td>\n",
       "      <td>...</td>\n",
       "      <td>...</td>\n",
       "      <td>...</td>\n",
       "      <td>...</td>\n",
       "      <td>...</td>\n",
       "      <td>...</td>\n",
       "    </tr>\n",
       "    <tr>\n",
       "      <th>382495</th>\n",
       "      <td>6047764</td>\n",
       "      <td>2121525947</td>\n",
       "      <td>1.0</td>\n",
       "      <td>1.0</td>\n",
       "      <td>1.0</td>\n",
       "      <td>1.0</td>\n",
       "      <td>1.0</td>\n",
       "      <td>Respect is not a God given right, as far back ...</td>\n",
       "      <td>Control</td>\n",
       "    </tr>\n",
       "    <tr>\n",
       "      <th>382496</th>\n",
       "      <td>6047764</td>\n",
       "      <td>3223755939</td>\n",
       "      <td>1.0</td>\n",
       "      <td>1.0</td>\n",
       "      <td>1.0</td>\n",
       "      <td>1.0</td>\n",
       "      <td>1.0</td>\n",
       "      <td>Respect is not a God given right, as far back ...</td>\n",
       "      <td>Control</td>\n",
       "    </tr>\n",
       "    <tr>\n",
       "      <th>382497</th>\n",
       "      <td>6047764</td>\n",
       "      <td>5722501435</td>\n",
       "      <td>1.0</td>\n",
       "      <td>1.0</td>\n",
       "      <td>1.0</td>\n",
       "      <td>1.0</td>\n",
       "      <td>1.0</td>\n",
       "      <td>Respect is not a God given right, as far back ...</td>\n",
       "      <td>Control</td>\n",
       "    </tr>\n",
       "    <tr>\n",
       "      <th>382498</th>\n",
       "      <td>6047764</td>\n",
       "      <td>5421794538</td>\n",
       "      <td>-1.0</td>\n",
       "      <td>0.0</td>\n",
       "      <td>1.0</td>\n",
       "      <td>1.0</td>\n",
       "      <td>-1.0</td>\n",
       "      <td>Respect is not a God given right, as far back ...</td>\n",
       "      <td>Control</td>\n",
       "    </tr>\n",
       "    <tr>\n",
       "      <th>382499</th>\n",
       "      <td>6047764</td>\n",
       "      <td>3222534449</td>\n",
       "      <td>-1.0</td>\n",
       "      <td>-1.0</td>\n",
       "      <td>1.0</td>\n",
       "      <td>1.0</td>\n",
       "      <td>-2.0</td>\n",
       "      <td>Respect is not a God given right, as far back ...</td>\n",
       "      <td>Control</td>\n",
       "    </tr>\n",
       "  </tbody>\n",
       "</table>\n",
       "<p>382500 rows × 9 columns</p>\n",
       "</div>"
      ],
      "text/plain": [
       "             id  unique_contributor_id  identity_attack  insult  obscene   \n",
       "0       6080885             5202370157              1.0     1.0      1.0  \\\n",
       "1       6080885              860598359              1.0     1.0      1.0   \n",
       "2       6080885             8302541685              1.0     1.0      1.0   \n",
       "3       6080885             2601547272              1.0     1.0      1.0   \n",
       "4       6080885             3101946413              1.0     1.0      1.0   \n",
       "...         ...                    ...              ...     ...      ...   \n",
       "382495  6047764             2121525947              1.0     1.0      1.0   \n",
       "382496  6047764             3223755939              1.0     1.0      1.0   \n",
       "382497  6047764             5722501435              1.0     1.0      1.0   \n",
       "382498  6047764             5421794538             -1.0     0.0      1.0   \n",
       "382499  6047764             3222534449             -1.0    -1.0      1.0   \n",
       "\n",
       "        threat  toxic_score   \n",
       "0          1.0          1.0  \\\n",
       "1          1.0          1.0   \n",
       "2          1.0          1.0   \n",
       "3          1.0          1.0   \n",
       "4          1.0          1.0   \n",
       "...        ...          ...   \n",
       "382495     1.0          1.0   \n",
       "382496     1.0          1.0   \n",
       "382497     1.0          1.0   \n",
       "382498     1.0         -1.0   \n",
       "382499     1.0         -2.0   \n",
       "\n",
       "                                             comment_text rater_group  \n",
       "0       LW2 - A little humor answering those inevitabl...          AA  \n",
       "1       LW2 - A little humor answering those inevitabl...          AA  \n",
       "2       LW2 - A little humor answering those inevitabl...          AA  \n",
       "3       LW2 - A little humor answering those inevitabl...          AA  \n",
       "4       LW2 - A little humor answering those inevitabl...          AA  \n",
       "...                                                   ...         ...  \n",
       "382495  Respect is not a God given right, as far back ...     Control  \n",
       "382496  Respect is not a God given right, as far back ...     Control  \n",
       "382497  Respect is not a God given right, as far back ...     Control  \n",
       "382498  Respect is not a God given right, as far back ...     Control  \n",
       "382499  Respect is not a God given right, as far back ...     Control  \n",
       "\n",
       "[382500 rows x 9 columns]"
      ]
     },
     "execution_count": 77,
     "metadata": {},
     "output_type": "execute_result"
    }
   ],
   "source": [
    "spec_data"
   ]
  },
  {
   "cell_type": "markdown",
   "metadata": {},
   "source": [
    "### Ground truth\n",
    "\n",
    "We present analysis with respect to both \"subjective\" (defined by annotators whose demographic matches that of the targeted demographic of a post) and \"objective\" ground truth (defined by the initial Jigsaw data annotators). Please check out the paper for more discussion on these definitions.\n",
    "\n",
    "In this code, you can select \"subjective\" or \"objective\" ground truth by changing the variable below."
   ]
  },
  {
   "cell_type": "code",
   "execution_count": 78,
   "metadata": {},
   "outputs": [],
   "source": [
    "analysis_type = \"subjective\""
   ]
  },
  {
   "cell_type": "code",
   "execution_count": 82,
   "metadata": {
    "scrolled": true
   },
   "outputs": [
    {
     "data": {
      "text/plain": [
       "22200"
      ]
     },
     "execution_count": 82,
     "metadata": {},
     "output_type": "execute_result"
    }
   ],
   "source": [
    "# Extracting 25-dimensional feature for each post using the pretrained model\n",
    "\n",
    "postsToFeatures, postsToLabels, postsToIds = getFeatures(all_data, spec_data, glove_model, analysis_type)\n",
    "len(postsToFeatures)"
   ]
  },
  {
   "cell_type": "markdown",
   "metadata": {},
   "source": [
    "### Human annotators"
   ]
  },
  {
   "cell_type": "code",
   "execution_count": 83,
   "metadata": {},
   "outputs": [
    {
     "name": "stdout",
     "output_type": "stream",
     "text": [
      "953 annotators\n"
     ]
    }
   ],
   "source": [
    "# Get all annotator ids\n",
    "experts = getExperts(all_data, spec_data)"
   ]
  },
  {
   "cell_type": "code",
   "execution_count": 84,
   "metadata": {},
   "outputs": [
    {
     "data": {
      "text/plain": [
       "(318, 313, 322)"
      ]
     },
     "execution_count": 84,
     "metadata": {},
     "output_type": "execute_result"
    }
   ],
   "source": [
    "expert_pools = {}\n",
    "for ann in experts:\n",
    "    rows = spec_data[spec_data['unique_contributor_id'] == ann]\n",
    "    group = list(rows[\"rater_group\"])[0]\n",
    "    expert_pools[ann] = group\n",
    "\n",
    "## Distribution of annotator demographics from Goyal et al. data\n",
    "sum([1 for _, g in expert_pools.items() if g == \"LGBTQ\"]), sum([1 for _, g in expert_pools.items() if g == \"AA\"]), sum([1 for _, g in expert_pools.items() if g == \"Control\"])\n"
   ]
  },
  {
   "cell_type": "markdown",
   "metadata": {},
   "source": [
    "## Online training"
   ]
  },
  {
   "cell_type": "markdown",
   "metadata": {},
   "source": [
    "#### Generate 25 random train-test splits"
   ]
  },
  {
   "cell_type": "code",
   "execution_count": 85,
   "metadata": {},
   "outputs": [],
   "source": [
    "train_parts, test_parts = [], []\n",
    "dSims = []\n",
    "for rep in (range(25)):\n",
    "    train, test = getDictPartition(postsToFeatures)        \n",
    "    train_parts.append(list(train))\n",
    "    test_parts.append(list(test))\n",
    "    \n",
    "    train, test = train_parts[rep], test_parts[rep]"
   ]
  },
  {
   "cell_type": "markdown",
   "metadata": {},
   "source": [
    "#### Select the training algorithm by setting the appropriate value to the variable below"
   ]
  },
  {
   "cell_type": "code",
   "execution_count": 86,
   "metadata": {},
   "outputs": [],
   "source": [
    "algorithm = \"Strict-Matching\" ## replace with Smooth-Matching if using that"
   ]
  },
  {
   "cell_type": "code",
   "execution_count": null,
   "metadata": {
    "scrolled": true
   },
   "outputs": [],
   "source": [
    "\n",
    "X = list(postsToFeatures.values())\n",
    "ps = list(postsToFeatures.keys())\n",
    "\n",
    "accs, f_scores, roc_scores, prec_scores, rec_scores = [], [], [], [], []\n",
    "rocs_by_k = {k:[] for k in range(1,8)}\n",
    "rocs_group = [[], [], []]\n",
    "\n",
    "reps = 25\n",
    "\n",
    "### Repeat experiment #rep times with different dataset splits\n",
    "for rep in (range(reps)):\n",
    "    print (\"\\nStarting rep\", rep)\n",
    "    \n",
    "    train, test = train_parts[rep], test_parts[rep]\n",
    "    deferrer = getDeferrer(algorithm, experts, expert_pools, all_data, postsToFeatures, postsToIds, train)    \n",
    "\n",
    "    ## Train model using the train partition\n",
    "    deferrer = train_allocation(algorithm, train, deferrer, experts, expert_pools, postsToLabels, postsToIds, X, ps, all_data, spec_data)\n",
    "    \n",
    "    ## Testing allocation model    \n",
    "    acc, f1, roc = test_allocation(test, deferrer, postsToLabels, postsToIds, X, ps, all_data, spec_data)\n",
    "\n",
    "    accs.append(acc)\n",
    "    f_scores.append(f1)\n",
    "    roc_scores.append(roc)\n",
    "    "
   ]
  },
  {
   "cell_type": "code",
   "execution_count": 67,
   "metadata": {},
   "outputs": [
    {
     "name": "stdout",
     "output_type": "stream",
     "text": [
      "0.8362072072072071 0.007395150831686315 0.6646538064145601 0.012958056420711692\n",
      "[0.66021521 0.65057174 0.66804211] [0.01826828 0.02338322 0.02088908]\n"
     ]
    }
   ],
   "source": [
    "print (np.mean(accs), np.std(accs), np.mean(roc_scores), np.std(roc_scores))\n",
    "print (np.mean(rocs_group, axis=1), np.std(rocs_group, axis=1))"
   ]
  },
  {
   "cell_type": "code",
   "execution_count": 72,
   "metadata": {},
   "outputs": [],
   "source": [
    "train_accs_strict_2 = np.array(accs)\n",
    "accs_mean = np.mean(train_accs_strict_2, axis=0)\n",
    "accs_std = np.std(train_accs_strict_2, axis=0)\n",
    "xs = np.array(range(len(accs_mean))) * batch_size\n",
    "plt.errorbar(xs, accs_mean, accs_std, fmt=\"-o\", label=\"Strict Matching\")\n",
    "\n",
    "train_accs_smooth_2 = np.array(train_accs_smooth_2)\n",
    "accs_mean = np.mean(train_accs_smooth_2, axis=0)\n",
    "accs_std = np.std(train_accs_smooth_2, axis=0)\n",
    "xs = np.array(range(len(accs_mean))) * batch_size\n",
    "plt.errorbar(xs, accs_mean, accs_std, fmt=\"-o\", label=\"Smooth Matching\")\n",
    "\n",
    "train_accs_nodsim_2 = np.array(train_accs_nodsim_2)\n",
    "accs_mean = np.mean(train_accs_nodsim_2, axis=0)\n",
    "accs_std = np.std(train_accs_nodsim_2, axis=0)\n",
    "xs = np.array(range(len(accs_mean))) * batch_size\n",
    "plt.errorbar(xs, accs_mean, accs_std, fmt=\"-o\", label=\"Training with no dSim\")\n",
    "\n",
    "\n",
    "plt.ylabel(\"Accuracy\", fontsize=18)\n",
    "plt.xlabel(\"Training iterations\", fontsize=18)\n",
    "plt.legend(fontsize=13)"
   ]
  },
  {
   "cell_type": "code",
   "execution_count": null,
   "metadata": {
    "scrolled": true
   },
   "outputs": [],
   "source": []
  },
  {
   "cell_type": "code",
   "execution_count": null,
   "metadata": {},
   "outputs": [],
   "source": []
  }
 ],
 "metadata": {
  "kernelspec": {
   "display_name": "Python 3 (ipykernel)",
   "language": "python",
   "name": "python3"
  },
  "language_info": {
   "codemirror_mode": {
    "name": "ipython",
    "version": 3
   },
   "file_extension": ".py",
   "mimetype": "text/x-python",
   "name": "python",
   "nbconvert_exporter": "python",
   "pygments_lexer": "ipython3",
   "version": "3.11.3"
  }
 },
 "nbformat": 4,
 "nbformat_minor": 5
}
